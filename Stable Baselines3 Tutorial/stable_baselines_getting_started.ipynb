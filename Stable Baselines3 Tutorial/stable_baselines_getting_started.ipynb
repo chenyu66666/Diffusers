{
  "cells": [
    {
      "cell_type": "markdown",
      "metadata": {
        "id": "view-in-github",
        "colab_type": "text"
      },
      "source": [
        "<a href=\"https://colab.research.google.com/github/chenyu66666/Diffusers/blob/main/Stable%20Baselines3%20Tutorial/stable_baselines_getting_started.ipynb\" target=\"_parent\"><img src=\"https://colab.research.google.com/assets/colab-badge.svg\" alt=\"Open In Colab\"/></a>"
      ]
    },
    {
      "cell_type": "markdown",
      "metadata": {
        "id": "hyyN-2qyK_T2"
      },
      "source": [
        "# Stable Baselines3 Tutorial - Getting Started\n",
        "\n",
        "Github repo: https://github.com/araffin/rl-tutorial-jnrr19\n",
        "\n",
        "Stable-Baselines3: https://github.com/DLR-RM/stable-baselines3\n",
        "\n",
        "Documentation: https://stable-baselines.readthedocs.io/en/master/\n",
        "\n",
        "RL Baselines3 zoo: https://github.com/DLR-RM/rl-baselines3-zoo\n",
        "\n",
        "\n",
        "[RL Baselines3 Zoo](https://github.com/DLR-RM/rl-baselines3-zoo) is a training framework for Reinforcement Learning (RL), using Stable Baselines3.\n",
        "\n",
        "It provides scripts for training, evaluating agents, tuning hyperparameters, plotting results and recording videos.\n",
        "\n",
        "## Introduction\n",
        "\n",
        "In this notebook, you will learn the basics for using stable baselines3 library: how to create a RL model, train it and evaluate it. Because all algorithms share the same interface, we will see how simple it is to switch from one algorithm to another.\n",
        "\n",
        "\n",
        "## Install Dependencies and Stable Baselines3 Using Pip\n",
        "\n",
        "List of full dependencies can be found in the [README](https://github.com/DLR-RM/stable-baselines3).\n",
        "\n",
        "\n",
        "```\n",
        "pip install stable-baselines3[extra]\n",
        "```"
      ]
    },
    {
      "cell_type": "code",
      "execution_count": 1,
      "metadata": {
        "id": "GzlXk4yLlz6j"
      },
      "outputs": [],
      "source": [
        "# for autoformatting\n",
        "# %load_ext jupyter_black"
      ]
    },
    {
      "cell_type": "code",
      "execution_count": 2,
      "metadata": {
        "colab": {
          "base_uri": "https://localhost:8080/"
        },
        "id": "gWskDE2c9WoN",
        "outputId": "7f03ae1d-5ffe-4ab0-c92e-3b60f5b34100"
      },
      "outputs": [
        {
          "output_type": "stream",
          "name": "stdout",
          "text": [
            "\r0% [Working]\r            \rGet:1 https://cloud.r-project.org/bin/linux/ubuntu jammy-cran40/ InRelease [3,626 B]\n",
            "\r0% [Waiting for headers] [Waiting for headers] [1 InRelease 3,626 B/3,626 B 100%] [Connected to r2u.\r0% [Waiting for headers] [Waiting for headers] [Connected to r2u.stat.illinois.edu (192.17.190.167)]\r                                                                                                    \rHit:2 https://developer.download.nvidia.com/compute/cuda/repos/ubuntu2204/x86_64  InRelease\n",
            "\r0% [Waiting for headers] [Waiting for headers] [Connected to r2u.stat.illinois.edu (192.17.190.167)]\r                                                                                                    \rHit:3 http://archive.ubuntu.com/ubuntu jammy InRelease\n",
            "Get:4 http://security.ubuntu.com/ubuntu jammy-security InRelease [129 kB]\n",
            "Get:5 http://archive.ubuntu.com/ubuntu jammy-updates InRelease [128 kB]\n",
            "Get:6 https://r2u.stat.illinois.edu/ubuntu jammy InRelease [6,555 B]\n",
            "Get:7 http://archive.ubuntu.com/ubuntu jammy-backports InRelease [127 kB]\n",
            "Hit:8 https://ppa.launchpadcontent.net/deadsnakes/ppa/ubuntu jammy InRelease\n",
            "Get:9 https://cloud.r-project.org/bin/linux/ubuntu jammy-cran40/ Packages [60.9 kB]\n",
            "Hit:10 https://ppa.launchpadcontent.net/graphics-drivers/ppa/ubuntu jammy InRelease\n",
            "Hit:11 https://ppa.launchpadcontent.net/ubuntugis/ppa/ubuntu jammy InRelease\n",
            "Get:12 https://r2u.stat.illinois.edu/ubuntu jammy/main all Packages [8,545 kB]\n",
            "Get:13 http://security.ubuntu.com/ubuntu jammy-security/main amd64 Packages [2,503 kB]\n",
            "Get:14 http://archive.ubuntu.com/ubuntu jammy-updates/universe amd64 Packages [1,516 kB]\n",
            "Get:15 http://security.ubuntu.com/ubuntu jammy-security/universe amd64 Packages [1,226 kB]\n",
            "Get:16 http://security.ubuntu.com/ubuntu jammy-security/restricted amd64 Packages [3,429 kB]\n",
            "Get:17 https://r2u.stat.illinois.edu/ubuntu jammy/main amd64 Packages [2,627 kB]\n",
            "Get:18 http://archive.ubuntu.com/ubuntu jammy-updates/main amd64 Packages [2,790 kB]\n",
            "Get:19 http://archive.ubuntu.com/ubuntu jammy-updates/restricted amd64 Packages [3,550 kB]\n",
            "Fetched 26.6 MB in 7s (3,929 kB/s)\n",
            "Reading package lists... Done\n",
            "W: Skipping acquire of configured file 'main/source/Sources' as repository 'https://r2u.stat.illinois.edu/ubuntu jammy InRelease' does not seem to provide it (sources.list entry misspelt?)\n",
            "Reading package lists... Done\n",
            "Building dependency tree... Done\n",
            "Reading state information... Done\n",
            "ffmpeg is already the newest version (7:4.4.2-0ubuntu0.22.04.1).\n",
            "The following additional packages will be installed:\n",
            "  freeglut3 libegl-dev libfontenc1 libgl-dev libgl1-mesa-dev libgles-dev libgles1 libglu1-mesa\n",
            "  libglu1-mesa-dev libglvnd-core-dev libglvnd-dev libglx-dev libice-dev libopengl-dev libsm-dev\n",
            "  libxfont2 libxkbfile1 libxt-dev x11-xkb-utils xfonts-base xfonts-encodings xfonts-utils\n",
            "  xserver-common\n",
            "Suggested packages:\n",
            "  libice-doc libsm-doc libxt-doc\n",
            "The following NEW packages will be installed:\n",
            "  freeglut3 freeglut3-dev libegl-dev libfontenc1 libgl-dev libgl1-mesa-dev libgles-dev libgles1\n",
            "  libglu1-mesa libglu1-mesa-dev libglvnd-core-dev libglvnd-dev libglx-dev libice-dev libopengl-dev\n",
            "  libsm-dev libxfont2 libxkbfile1 libxt-dev x11-xkb-utils xfonts-base xfonts-encodings xfonts-utils\n",
            "  xserver-common xvfb\n",
            "0 upgraded, 25 newly installed, 0 to remove and 56 not upgraded.\n",
            "Need to get 9,076 kB of archives.\n",
            "After this operation, 18.7 MB of additional disk space will be used.\n",
            "Get:1 http://archive.ubuntu.com/ubuntu jammy/universe amd64 freeglut3 amd64 2.8.1-6 [74.0 kB]\n",
            "Get:2 http://archive.ubuntu.com/ubuntu jammy/main amd64 libglx-dev amd64 1.4.0-1 [14.1 kB]\n",
            "Get:3 http://archive.ubuntu.com/ubuntu jammy/main amd64 libgl-dev amd64 1.4.0-1 [101 kB]\n",
            "Get:4 http://archive.ubuntu.com/ubuntu jammy/main amd64 libglvnd-core-dev amd64 1.4.0-1 [12.7 kB]\n",
            "Get:5 http://archive.ubuntu.com/ubuntu jammy/main amd64 libegl-dev amd64 1.4.0-1 [18.0 kB]\n",
            "Get:6 http://archive.ubuntu.com/ubuntu jammy/main amd64 libgles1 amd64 1.4.0-1 [11.5 kB]\n",
            "Get:7 http://archive.ubuntu.com/ubuntu jammy/main amd64 libgles-dev amd64 1.4.0-1 [49.4 kB]\n",
            "Get:8 http://archive.ubuntu.com/ubuntu jammy/main amd64 libopengl-dev amd64 1.4.0-1 [3,400 B]\n",
            "Get:9 http://archive.ubuntu.com/ubuntu jammy/main amd64 libglvnd-dev amd64 1.4.0-1 [3,162 B]\n",
            "Get:10 http://archive.ubuntu.com/ubuntu jammy-updates/main amd64 libgl1-mesa-dev amd64 23.2.1-1ubuntu3.1~22.04.3 [6,848 B]\n",
            "Get:11 http://archive.ubuntu.com/ubuntu jammy/main amd64 libglu1-mesa amd64 9.0.2-1 [145 kB]\n",
            "Get:12 http://archive.ubuntu.com/ubuntu jammy/main amd64 libglu1-mesa-dev amd64 9.0.2-1 [231 kB]\n",
            "Get:13 http://archive.ubuntu.com/ubuntu jammy/main amd64 libice-dev amd64 2:1.0.10-1build2 [51.4 kB]\n",
            "Get:14 http://archive.ubuntu.com/ubuntu jammy/main amd64 libsm-dev amd64 2:1.2.3-1build2 [18.1 kB]\n",
            "Get:15 http://archive.ubuntu.com/ubuntu jammy/main amd64 libxt-dev amd64 1:1.2.1-1 [396 kB]\n",
            "Get:16 http://archive.ubuntu.com/ubuntu jammy/universe amd64 freeglut3-dev amd64 2.8.1-6 [126 kB]\n",
            "Get:17 http://archive.ubuntu.com/ubuntu jammy/main amd64 libfontenc1 amd64 1:1.1.4-1build3 [14.7 kB]\n",
            "Get:18 http://archive.ubuntu.com/ubuntu jammy/main amd64 libxfont2 amd64 1:2.0.5-1build1 [94.5 kB]\n",
            "Get:19 http://archive.ubuntu.com/ubuntu jammy/main amd64 libxkbfile1 amd64 1:1.1.0-1build3 [71.8 kB]\n",
            "Get:20 http://archive.ubuntu.com/ubuntu jammy/main amd64 x11-xkb-utils amd64 7.7+5build4 [172 kB]\n",
            "Get:21 http://archive.ubuntu.com/ubuntu jammy/main amd64 xfonts-encodings all 1:1.0.5-0ubuntu2 [578 kB]\n",
            "Get:22 http://archive.ubuntu.com/ubuntu jammy/main amd64 xfonts-utils amd64 1:7.7+6build2 [94.6 kB]\n",
            "Get:23 http://archive.ubuntu.com/ubuntu jammy/main amd64 xfonts-base all 1:1.0.5 [5,896 kB]\n",
            "Get:24 http://archive.ubuntu.com/ubuntu jammy-updates/main amd64 xserver-common all 2:21.1.4-2ubuntu1.7~22.04.12 [28.7 kB]\n",
            "Get:25 http://archive.ubuntu.com/ubuntu jammy-updates/universe amd64 xvfb amd64 2:21.1.4-2ubuntu1.7~22.04.12 [864 kB]\n",
            "Fetched 9,076 kB in 2s (5,153 kB/s)\n",
            "Selecting previously unselected package freeglut3:amd64.\n",
            "(Reading database ... 123633 files and directories currently installed.)\n",
            "Preparing to unpack .../00-freeglut3_2.8.1-6_amd64.deb ...\n",
            "Unpacking freeglut3:amd64 (2.8.1-6) ...\n",
            "Selecting previously unselected package libglx-dev:amd64.\n",
            "Preparing to unpack .../01-libglx-dev_1.4.0-1_amd64.deb ...\n",
            "Unpacking libglx-dev:amd64 (1.4.0-1) ...\n",
            "Selecting previously unselected package libgl-dev:amd64.\n",
            "Preparing to unpack .../02-libgl-dev_1.4.0-1_amd64.deb ...\n",
            "Unpacking libgl-dev:amd64 (1.4.0-1) ...\n",
            "Selecting previously unselected package libglvnd-core-dev:amd64.\n",
            "Preparing to unpack .../03-libglvnd-core-dev_1.4.0-1_amd64.deb ...\n",
            "Unpacking libglvnd-core-dev:amd64 (1.4.0-1) ...\n",
            "Selecting previously unselected package libegl-dev:amd64.\n",
            "Preparing to unpack .../04-libegl-dev_1.4.0-1_amd64.deb ...\n",
            "Unpacking libegl-dev:amd64 (1.4.0-1) ...\n",
            "Selecting previously unselected package libgles1:amd64.\n",
            "Preparing to unpack .../05-libgles1_1.4.0-1_amd64.deb ...\n",
            "Unpacking libgles1:amd64 (1.4.0-1) ...\n",
            "Selecting previously unselected package libgles-dev:amd64.\n",
            "Preparing to unpack .../06-libgles-dev_1.4.0-1_amd64.deb ...\n",
            "Unpacking libgles-dev:amd64 (1.4.0-1) ...\n",
            "Selecting previously unselected package libopengl-dev:amd64.\n",
            "Preparing to unpack .../07-libopengl-dev_1.4.0-1_amd64.deb ...\n",
            "Unpacking libopengl-dev:amd64 (1.4.0-1) ...\n",
            "Selecting previously unselected package libglvnd-dev:amd64.\n",
            "Preparing to unpack .../08-libglvnd-dev_1.4.0-1_amd64.deb ...\n",
            "Unpacking libglvnd-dev:amd64 (1.4.0-1) ...\n",
            "Selecting previously unselected package libgl1-mesa-dev:amd64.\n",
            "Preparing to unpack .../09-libgl1-mesa-dev_23.2.1-1ubuntu3.1~22.04.3_amd64.deb ...\n",
            "Unpacking libgl1-mesa-dev:amd64 (23.2.1-1ubuntu3.1~22.04.3) ...\n",
            "Selecting previously unselected package libglu1-mesa:amd64.\n",
            "Preparing to unpack .../10-libglu1-mesa_9.0.2-1_amd64.deb ...\n",
            "Unpacking libglu1-mesa:amd64 (9.0.2-1) ...\n",
            "Selecting previously unselected package libglu1-mesa-dev:amd64.\n",
            "Preparing to unpack .../11-libglu1-mesa-dev_9.0.2-1_amd64.deb ...\n",
            "Unpacking libglu1-mesa-dev:amd64 (9.0.2-1) ...\n",
            "Selecting previously unselected package libice-dev:amd64.\n",
            "Preparing to unpack .../12-libice-dev_2%3a1.0.10-1build2_amd64.deb ...\n",
            "Unpacking libice-dev:amd64 (2:1.0.10-1build2) ...\n",
            "Selecting previously unselected package libsm-dev:amd64.\n",
            "Preparing to unpack .../13-libsm-dev_2%3a1.2.3-1build2_amd64.deb ...\n",
            "Unpacking libsm-dev:amd64 (2:1.2.3-1build2) ...\n",
            "Selecting previously unselected package libxt-dev:amd64.\n",
            "Preparing to unpack .../14-libxt-dev_1%3a1.2.1-1_amd64.deb ...\n",
            "Unpacking libxt-dev:amd64 (1:1.2.1-1) ...\n",
            "Selecting previously unselected package freeglut3-dev:amd64.\n",
            "Preparing to unpack .../15-freeglut3-dev_2.8.1-6_amd64.deb ...\n",
            "Unpacking freeglut3-dev:amd64 (2.8.1-6) ...\n",
            "Selecting previously unselected package libfontenc1:amd64.\n",
            "Preparing to unpack .../16-libfontenc1_1%3a1.1.4-1build3_amd64.deb ...\n",
            "Unpacking libfontenc1:amd64 (1:1.1.4-1build3) ...\n",
            "Selecting previously unselected package libxfont2:amd64.\n",
            "Preparing to unpack .../17-libxfont2_1%3a2.0.5-1build1_amd64.deb ...\n",
            "Unpacking libxfont2:amd64 (1:2.0.5-1build1) ...\n",
            "Selecting previously unselected package libxkbfile1:amd64.\n",
            "Preparing to unpack .../18-libxkbfile1_1%3a1.1.0-1build3_amd64.deb ...\n",
            "Unpacking libxkbfile1:amd64 (1:1.1.0-1build3) ...\n",
            "Selecting previously unselected package x11-xkb-utils.\n",
            "Preparing to unpack .../19-x11-xkb-utils_7.7+5build4_amd64.deb ...\n",
            "Unpacking x11-xkb-utils (7.7+5build4) ...\n",
            "Selecting previously unselected package xfonts-encodings.\n",
            "Preparing to unpack .../20-xfonts-encodings_1%3a1.0.5-0ubuntu2_all.deb ...\n",
            "Unpacking xfonts-encodings (1:1.0.5-0ubuntu2) ...\n",
            "Selecting previously unselected package xfonts-utils.\n",
            "Preparing to unpack .../21-xfonts-utils_1%3a7.7+6build2_amd64.deb ...\n",
            "Unpacking xfonts-utils (1:7.7+6build2) ...\n",
            "Selecting previously unselected package xfonts-base.\n",
            "Preparing to unpack .../22-xfonts-base_1%3a1.0.5_all.deb ...\n",
            "Unpacking xfonts-base (1:1.0.5) ...\n",
            "Selecting previously unselected package xserver-common.\n",
            "Preparing to unpack .../23-xserver-common_2%3a21.1.4-2ubuntu1.7~22.04.12_all.deb ...\n",
            "Unpacking xserver-common (2:21.1.4-2ubuntu1.7~22.04.12) ...\n",
            "Selecting previously unselected package xvfb.\n",
            "Preparing to unpack .../24-xvfb_2%3a21.1.4-2ubuntu1.7~22.04.12_amd64.deb ...\n",
            "Unpacking xvfb (2:21.1.4-2ubuntu1.7~22.04.12) ...\n",
            "Setting up freeglut3:amd64 (2.8.1-6) ...\n",
            "Setting up libglvnd-core-dev:amd64 (1.4.0-1) ...\n",
            "Setting up libice-dev:amd64 (2:1.0.10-1build2) ...\n",
            "Setting up libsm-dev:amd64 (2:1.2.3-1build2) ...\n",
            "Setting up libfontenc1:amd64 (1:1.1.4-1build3) ...\n",
            "Setting up libxt-dev:amd64 (1:1.2.1-1) ...\n",
            "Setting up libgles1:amd64 (1.4.0-1) ...\n",
            "Setting up xfonts-encodings (1:1.0.5-0ubuntu2) ...\n",
            "Setting up libglx-dev:amd64 (1.4.0-1) ...\n",
            "Setting up libglu1-mesa:amd64 (9.0.2-1) ...\n",
            "Setting up libxkbfile1:amd64 (1:1.1.0-1build3) ...\n",
            "Setting up libopengl-dev:amd64 (1.4.0-1) ...\n",
            "Setting up libxfont2:amd64 (1:2.0.5-1build1) ...\n",
            "Setting up libgl-dev:amd64 (1.4.0-1) ...\n",
            "Setting up libegl-dev:amd64 (1.4.0-1) ...\n",
            "Setting up x11-xkb-utils (7.7+5build4) ...\n",
            "Setting up xfonts-utils (1:7.7+6build2) ...\n",
            "Setting up xfonts-base (1:1.0.5) ...\n",
            "Setting up libglu1-mesa-dev:amd64 (9.0.2-1) ...\n",
            "Setting up xserver-common (2:21.1.4-2ubuntu1.7~22.04.12) ...\n",
            "Setting up libgles-dev:amd64 (1.4.0-1) ...\n",
            "Setting up xvfb (2:21.1.4-2ubuntu1.7~22.04.12) ...\n",
            "Setting up libglvnd-dev:amd64 (1.4.0-1) ...\n",
            "Setting up libgl1-mesa-dev:amd64 (23.2.1-1ubuntu3.1~22.04.3) ...\n",
            "Setting up freeglut3-dev:amd64 (2.8.1-6) ...\n",
            "Processing triggers for libc-bin (2.35-0ubuntu3.4) ...\n",
            "/sbin/ldconfig.real: /usr/local/lib/libtbbmalloc.so.2 is not a symbolic link\n",
            "\n",
            "/sbin/ldconfig.real: /usr/local/lib/libhwloc.so.15 is not a symbolic link\n",
            "\n",
            "/sbin/ldconfig.real: /usr/local/lib/libtbbbind_2_5.so.3 is not a symbolic link\n",
            "\n",
            "/sbin/ldconfig.real: /usr/local/lib/libtbb.so.12 is not a symbolic link\n",
            "\n",
            "/sbin/ldconfig.real: /usr/local/lib/libtbbbind.so.3 is not a symbolic link\n",
            "\n",
            "/sbin/ldconfig.real: /usr/local/lib/libtcm.so.1 is not a symbolic link\n",
            "\n",
            "/sbin/ldconfig.real: /usr/local/lib/libumf.so.0 is not a symbolic link\n",
            "\n",
            "/sbin/ldconfig.real: /usr/local/lib/libur_loader.so.0 is not a symbolic link\n",
            "\n",
            "/sbin/ldconfig.real: /usr/local/lib/libtbbbind_2_0.so.3 is not a symbolic link\n",
            "\n",
            "/sbin/ldconfig.real: /usr/local/lib/libur_adapter_opencl.so.0 is not a symbolic link\n",
            "\n",
            "/sbin/ldconfig.real: /usr/local/lib/libtbbmalloc_proxy.so.2 is not a symbolic link\n",
            "\n",
            "/sbin/ldconfig.real: /usr/local/lib/libur_adapter_level_zero.so.0 is not a symbolic link\n",
            "\n",
            "/sbin/ldconfig.real: /usr/local/lib/libtcm_debug.so.1 is not a symbolic link\n",
            "\n",
            "Processing triggers for man-db (2.10.2-1) ...\n",
            "Processing triggers for fontconfig (2.13.1-4.2ubuntu5) ...\n",
            "Collecting stable-baselines3>=2.0.0a4 (from stable-baselines3[extra]>=2.0.0a4)\n",
            "  Downloading stable_baselines3-2.5.0a0-py3-none-any.whl.metadata (4.5 kB)\n",
            "Collecting gymnasium<1.1.0,>=0.29.1 (from stable-baselines3>=2.0.0a4->stable-baselines3[extra]>=2.0.0a4)\n",
            "  Downloading gymnasium-1.0.0-py3-none-any.whl.metadata (9.5 kB)\n",
            "Requirement already satisfied: numpy<3.0,>=1.20 in /usr/local/lib/python3.10/dist-packages (from stable-baselines3>=2.0.0a4->stable-baselines3[extra]>=2.0.0a4) (1.26.4)\n",
            "Requirement already satisfied: torch<3.0,>=2.3 in /usr/local/lib/python3.10/dist-packages (from stable-baselines3>=2.0.0a4->stable-baselines3[extra]>=2.0.0a4) (2.5.1+cu121)\n",
            "Requirement already satisfied: cloudpickle in /usr/local/lib/python3.10/dist-packages (from stable-baselines3>=2.0.0a4->stable-baselines3[extra]>=2.0.0a4) (3.1.0)\n",
            "Requirement already satisfied: pandas in /usr/local/lib/python3.10/dist-packages (from stable-baselines3>=2.0.0a4->stable-baselines3[extra]>=2.0.0a4) (2.2.2)\n",
            "Requirement already satisfied: matplotlib in /usr/local/lib/python3.10/dist-packages (from stable-baselines3>=2.0.0a4->stable-baselines3[extra]>=2.0.0a4) (3.8.0)\n",
            "Requirement already satisfied: opencv-python in /usr/local/lib/python3.10/dist-packages (from stable-baselines3[extra]>=2.0.0a4) (4.10.0.84)\n",
            "Requirement already satisfied: pygame in /usr/local/lib/python3.10/dist-packages (from stable-baselines3[extra]>=2.0.0a4) (2.6.1)\n",
            "Requirement already satisfied: tensorboard>=2.9.1 in /usr/local/lib/python3.10/dist-packages (from stable-baselines3[extra]>=2.0.0a4) (2.17.1)\n",
            "Requirement already satisfied: psutil in /usr/local/lib/python3.10/dist-packages (from stable-baselines3[extra]>=2.0.0a4) (5.9.5)\n",
            "Requirement already satisfied: tqdm in /usr/local/lib/python3.10/dist-packages (from stable-baselines3[extra]>=2.0.0a4) (4.66.6)\n",
            "Requirement already satisfied: rich in /usr/local/lib/python3.10/dist-packages (from stable-baselines3[extra]>=2.0.0a4) (13.9.4)\n",
            "Collecting ale-py>=0.9.0 (from stable-baselines3[extra]>=2.0.0a4)\n",
            "  Downloading ale_py-0.10.1-cp310-cp310-manylinux_2_17_x86_64.manylinux2014_x86_64.whl.metadata (7.6 kB)\n",
            "Requirement already satisfied: pillow in /usr/local/lib/python3.10/dist-packages (from stable-baselines3[extra]>=2.0.0a4) (11.0.0)\n",
            "Requirement already satisfied: typing-extensions in /usr/local/lib/python3.10/dist-packages (from ale-py>=0.9.0->stable-baselines3[extra]>=2.0.0a4) (4.12.2)\n",
            "Collecting farama-notifications>=0.0.1 (from gymnasium<1.1.0,>=0.29.1->stable-baselines3>=2.0.0a4->stable-baselines3[extra]>=2.0.0a4)\n",
            "  Downloading Farama_Notifications-0.0.4-py3-none-any.whl.metadata (558 bytes)\n",
            "Requirement already satisfied: absl-py>=0.4 in /usr/local/lib/python3.10/dist-packages (from tensorboard>=2.9.1->stable-baselines3[extra]>=2.0.0a4) (1.4.0)\n",
            "Requirement already satisfied: grpcio>=1.48.2 in /usr/local/lib/python3.10/dist-packages (from tensorboard>=2.9.1->stable-baselines3[extra]>=2.0.0a4) (1.68.1)\n",
            "Requirement already satisfied: markdown>=2.6.8 in /usr/local/lib/python3.10/dist-packages (from tensorboard>=2.9.1->stable-baselines3[extra]>=2.0.0a4) (3.7)\n",
            "Requirement already satisfied: packaging in /usr/local/lib/python3.10/dist-packages (from tensorboard>=2.9.1->stable-baselines3[extra]>=2.0.0a4) (24.2)\n",
            "Requirement already satisfied: protobuf!=4.24.0,>=3.19.6 in /usr/local/lib/python3.10/dist-packages (from tensorboard>=2.9.1->stable-baselines3[extra]>=2.0.0a4) (4.25.5)\n",
            "Requirement already satisfied: setuptools>=41.0.0 in /usr/local/lib/python3.10/dist-packages (from tensorboard>=2.9.1->stable-baselines3[extra]>=2.0.0a4) (75.1.0)\n",
            "Requirement already satisfied: six>1.9 in /usr/local/lib/python3.10/dist-packages (from tensorboard>=2.9.1->stable-baselines3[extra]>=2.0.0a4) (1.17.0)\n",
            "Requirement already satisfied: tensorboard-data-server<0.8.0,>=0.7.0 in /usr/local/lib/python3.10/dist-packages (from tensorboard>=2.9.1->stable-baselines3[extra]>=2.0.0a4) (0.7.2)\n",
            "Requirement already satisfied: werkzeug>=1.0.1 in /usr/local/lib/python3.10/dist-packages (from tensorboard>=2.9.1->stable-baselines3[extra]>=2.0.0a4) (3.1.3)\n",
            "Requirement already satisfied: filelock in /usr/local/lib/python3.10/dist-packages (from torch<3.0,>=2.3->stable-baselines3>=2.0.0a4->stable-baselines3[extra]>=2.0.0a4) (3.16.1)\n",
            "Requirement already satisfied: networkx in /usr/local/lib/python3.10/dist-packages (from torch<3.0,>=2.3->stable-baselines3>=2.0.0a4->stable-baselines3[extra]>=2.0.0a4) (3.4.2)\n",
            "Requirement already satisfied: jinja2 in /usr/local/lib/python3.10/dist-packages (from torch<3.0,>=2.3->stable-baselines3>=2.0.0a4->stable-baselines3[extra]>=2.0.0a4) (3.1.4)\n",
            "Requirement already satisfied: fsspec in /usr/local/lib/python3.10/dist-packages (from torch<3.0,>=2.3->stable-baselines3>=2.0.0a4->stable-baselines3[extra]>=2.0.0a4) (2024.10.0)\n",
            "Requirement already satisfied: sympy==1.13.1 in /usr/local/lib/python3.10/dist-packages (from torch<3.0,>=2.3->stable-baselines3>=2.0.0a4->stable-baselines3[extra]>=2.0.0a4) (1.13.1)\n",
            "Requirement already satisfied: mpmath<1.4,>=1.1.0 in /usr/local/lib/python3.10/dist-packages (from sympy==1.13.1->torch<3.0,>=2.3->stable-baselines3>=2.0.0a4->stable-baselines3[extra]>=2.0.0a4) (1.3.0)\n",
            "Requirement already satisfied: contourpy>=1.0.1 in /usr/local/lib/python3.10/dist-packages (from matplotlib->stable-baselines3>=2.0.0a4->stable-baselines3[extra]>=2.0.0a4) (1.3.1)\n",
            "Requirement already satisfied: cycler>=0.10 in /usr/local/lib/python3.10/dist-packages (from matplotlib->stable-baselines3>=2.0.0a4->stable-baselines3[extra]>=2.0.0a4) (0.12.1)\n",
            "Requirement already satisfied: fonttools>=4.22.0 in /usr/local/lib/python3.10/dist-packages (from matplotlib->stable-baselines3>=2.0.0a4->stable-baselines3[extra]>=2.0.0a4) (4.55.3)\n",
            "Requirement already satisfied: kiwisolver>=1.0.1 in /usr/local/lib/python3.10/dist-packages (from matplotlib->stable-baselines3>=2.0.0a4->stable-baselines3[extra]>=2.0.0a4) (1.4.7)\n",
            "Requirement already satisfied: pyparsing>=2.3.1 in /usr/local/lib/python3.10/dist-packages (from matplotlib->stable-baselines3>=2.0.0a4->stable-baselines3[extra]>=2.0.0a4) (3.2.0)\n",
            "Requirement already satisfied: python-dateutil>=2.7 in /usr/local/lib/python3.10/dist-packages (from matplotlib->stable-baselines3>=2.0.0a4->stable-baselines3[extra]>=2.0.0a4) (2.8.2)\n",
            "Requirement already satisfied: pytz>=2020.1 in /usr/local/lib/python3.10/dist-packages (from pandas->stable-baselines3>=2.0.0a4->stable-baselines3[extra]>=2.0.0a4) (2024.2)\n",
            "Requirement already satisfied: tzdata>=2022.7 in /usr/local/lib/python3.10/dist-packages (from pandas->stable-baselines3>=2.0.0a4->stable-baselines3[extra]>=2.0.0a4) (2024.2)\n",
            "Requirement already satisfied: markdown-it-py>=2.2.0 in /usr/local/lib/python3.10/dist-packages (from rich->stable-baselines3[extra]>=2.0.0a4) (3.0.0)\n",
            "Requirement already satisfied: pygments<3.0.0,>=2.13.0 in /usr/local/lib/python3.10/dist-packages (from rich->stable-baselines3[extra]>=2.0.0a4) (2.18.0)\n",
            "Requirement already satisfied: mdurl~=0.1 in /usr/local/lib/python3.10/dist-packages (from markdown-it-py>=2.2.0->rich->stable-baselines3[extra]>=2.0.0a4) (0.1.2)\n",
            "Requirement already satisfied: MarkupSafe>=2.1.1 in /usr/local/lib/python3.10/dist-packages (from werkzeug>=1.0.1->tensorboard>=2.9.1->stable-baselines3[extra]>=2.0.0a4) (3.0.2)\n",
            "Downloading stable_baselines3-2.5.0a0-py3-none-any.whl (183 kB)\n",
            "\u001b[2K   \u001b[90m━━━━━━━━━━━━━━━━━━━━━━━━━━━━━━━━━━━━━━━━\u001b[0m \u001b[32m183.7/183.7 kB\u001b[0m \u001b[31m7.3 MB/s\u001b[0m eta \u001b[36m0:00:00\u001b[0m\n",
            "\u001b[?25hDownloading ale_py-0.10.1-cp310-cp310-manylinux_2_17_x86_64.manylinux2014_x86_64.whl (2.1 MB)\n",
            "\u001b[2K   \u001b[90m━━━━━━━━━━━━━━━━━━━━━━━━━━━━━━━━━━━━━━━━\u001b[0m \u001b[32m2.1/2.1 MB\u001b[0m \u001b[31m46.4 MB/s\u001b[0m eta \u001b[36m0:00:00\u001b[0m\n",
            "\u001b[?25hDownloading gymnasium-1.0.0-py3-none-any.whl (958 kB)\n",
            "\u001b[2K   \u001b[90m━━━━━━━━━━━━━━━━━━━━━━━━━━━━━━━━━━━━━━━━\u001b[0m \u001b[32m958.1/958.1 kB\u001b[0m \u001b[31m59.4 MB/s\u001b[0m eta \u001b[36m0:00:00\u001b[0m\n",
            "\u001b[?25hDownloading Farama_Notifications-0.0.4-py3-none-any.whl (2.5 kB)\n",
            "Installing collected packages: farama-notifications, gymnasium, ale-py, stable-baselines3\n",
            "Successfully installed ale-py-0.10.1 farama-notifications-0.0.4 gymnasium-1.0.0 stable-baselines3-2.5.0a0\n"
          ]
        }
      ],
      "source": [
        "!apt-get update && apt-get install ffmpeg freeglut3-dev xvfb  # For visualization\n",
        "!pip install \"stable-baselines3[extra]>=2.0.0a4\""
      ]
    },
    {
      "cell_type": "code",
      "execution_count": 3,
      "metadata": {
        "colab": {
          "base_uri": "https://localhost:8080/"
        },
        "id": "U29X1-B-AIKE",
        "outputId": "bd5e484b-e99b-4f1a-e180-7259697655f7"
      },
      "outputs": [
        {
          "output_type": "stream",
          "name": "stdout",
          "text": [
            "stable_baselines3.__version__='2.5.0a0'\n"
          ]
        }
      ],
      "source": [
        "import stable_baselines3\n",
        "\n",
        "print(f\"{stable_baselines3.__version__=}\")"
      ]
    },
    {
      "cell_type": "markdown",
      "metadata": {
        "id": "FtY8FhliLsGm"
      },
      "source": [
        "## Imports"
      ]
    },
    {
      "cell_type": "markdown",
      "metadata": {
        "id": "gcX8hEcaUpR0"
      },
      "source": [
        "Stable-Baselines works on environments that follow the [gym interface](https://stable-baselines.readthedocs.io/en/master/guide/custom_env.html).\n",
        "You can find a list of available environment [here](https://gym.openai.com/envs/#classic_control).\n",
        "\n",
        "It is also recommended to check the [source code](https://github.com/openai/gym) to learn more about the observation and action space of each env, as gym does not have a proper documentation.\n",
        "Not all algorithms can work with all action spaces, you can find more in this [recap table](https://stable-baselines.readthedocs.io/en/master/guide/algos.html)"
      ]
    },
    {
      "cell_type": "code",
      "execution_count": 4,
      "metadata": {
        "colab": {
          "base_uri": "https://localhost:8080/"
        },
        "id": "BIedd7Pz9sOs",
        "outputId": "78462016-c653-4e7d-b45d-d61b98b551ea"
      },
      "outputs": [
        {
          "output_type": "stream",
          "name": "stdout",
          "text": [
            "gym.__version__='1.0.0'\n"
          ]
        },
        {
          "output_type": "stream",
          "name": "stderr",
          "text": [
            "/usr/local/lib/python3.10/dist-packages/ipykernel/ipkernel.py:283: DeprecationWarning: `should_run_async` will not call `transform_cell` automatically in the future. Please pass the result to `transformed_cell` argument and any exception that happen during thetransform in `preprocessing_exc_tuple` in IPython 7.17 and above.\n",
            "  and should_run_async(code)\n"
          ]
        }
      ],
      "source": [
        "import gymnasium as gym\n",
        "import numpy as np\n",
        "\n",
        "print(f\"{gym.__version__=}\")"
      ]
    },
    {
      "cell_type": "markdown",
      "metadata": {
        "id": "Ae32CtgzTG3R"
      },
      "source": [
        "The first thing you need to import is the RL model, check the documentation to know what you can use on which problem"
      ]
    },
    {
      "cell_type": "code",
      "execution_count": 5,
      "metadata": {
        "id": "R7tKaBFrTR0a"
      },
      "outputs": [],
      "source": [
        "from stable_baselines3 import PPO"
      ]
    },
    {
      "cell_type": "markdown",
      "metadata": {
        "id": "-0_8OQbOTTNT"
      },
      "source": [
        "The next thing you need to import is the policy class that will be used to create the networks (for the policy/value functions).\n",
        "This step is optional as you can directly use strings in the constructor:\n",
        "\n",
        "```PPO('MlpPolicy', env)``` instead of ```PPO(MlpPolicy, env)```\n",
        "\n",
        "Note that some algorithms like `SAC` have their own `MlpPolicy`, that's why using string for the policy is the recommened option."
      ]
    },
    {
      "cell_type": "code",
      "execution_count": 6,
      "metadata": {
        "id": "ROUJr675TT01"
      },
      "outputs": [],
      "source": [
        "from stable_baselines3.ppo import MlpPolicy"
      ]
    },
    {
      "cell_type": "markdown",
      "metadata": {
        "id": "RapkYvTXL7Cd"
      },
      "source": [
        "## Create the Gym env and instantiate the agent\n",
        "\n",
        "For this example, we will use CartPole environment, a classic control problem.\n",
        "\n",
        "\"A pole is attached by an un-actuated joint to a cart, which moves along a frictionless track. The system is controlled by applying a force of +1 or -1 to the cart. The pendulum starts upright, and the goal is to prevent it from falling over. A reward of +1 is provided for every timestep that the pole remains upright. \"\n",
        "\n",
        "Cartpole environment: [https://gymnasium.farama.org/environments/classic_control/cart_pole/](https://gymnasium.farama.org/environments/classic_control/cart_pole/)\n",
        "\n",
        "![Cartpole](https://cdn-images-1.medium.com/max/1143/1*h4WTQNVIsvMXJTCpXm_TAw.gif)\n",
        "\n",
        "Note: vectorized environments allow to easily multiprocess training. In this example, we are using only one process, hence the DummyVecEnv.\n",
        "\n",
        "We chose the MlpPolicy because input of CartPole is a feature vector, not images.\n",
        "\n",
        "The type of action to use (discrete/continuous) will be automatically deduced from the environment action space\n",
        "\n",
        "\n",
        "Here we are using the [Proximal Policy Optimization](https://stable-baselines.readthedocs.io/en/master/modules/ppo2.html) algorithm, which is an Actor-Critic method: it uses a value function to improve the policy gradient descent (by reducing the variance).\n",
        "\n",
        "It combines ideas from [A2C](https://stable-baselines.readthedocs.io/en/master/modules/a2c.html) (having multiple workers and using an entropy bonus for exploration) and [TRPO](https://stable-baselines.readthedocs.io/en/master/modules/trpo.html) (it uses a trust region to improve stability and avoid catastrophic drops in performance).\n",
        "\n",
        "PPO is an on-policy algorithm, which means that the trajectories used to update the networks must be collected using the latest policy.\n",
        "It is usually less sample efficient than off-policy alorithms like [DQN](https://stable-baselines.readthedocs.io/en/master/modules/dqn.html), [SAC](https://stable-baselines.readthedocs.io/en/master/modules/sac.html) or [TD3](https://stable-baselines.readthedocs.io/en/master/modules/td3.html), but is much faster regarding wall-clock time.\n"
      ]
    },
    {
      "cell_type": "code",
      "execution_count": 7,
      "metadata": {
        "colab": {
          "base_uri": "https://localhost:8080/"
        },
        "id": "pUWGZp3i9wyf",
        "outputId": "58715881-403e-4d77-8674-c667c39e6877"
      },
      "outputs": [
        {
          "output_type": "stream",
          "name": "stderr",
          "text": [
            "/usr/local/lib/python3.10/dist-packages/stable_baselines3/common/on_policy_algorithm.py:150: UserWarning: You are trying to run PPO on the GPU, but it is primarily intended to run on the CPU when not using a CNN policy (you are using ActorCriticPolicy which should be a MlpPolicy). See https://github.com/DLR-RM/stable-baselines3/issues/1245 for more info. You can pass `device='cpu'` or `export CUDA_VISIBLE_DEVICES=` to force using the CPU.Note: The model will train, but the GPU utilization will be poor and the training might take longer than on CPU.\n",
            "  warnings.warn(\n"
          ]
        }
      ],
      "source": [
        "env = gym.make(\"CartPole-v1\", render_mode=\"rgb_array\")\n",
        "model = PPO(MlpPolicy, env, verbose=0)"
      ]
    },
    {
      "cell_type": "markdown",
      "metadata": {
        "id": "4efFdrQ7MBvl"
      },
      "source": [
        "We create a helper function to evaluate the agent:"
      ]
    },
    {
      "cell_type": "code",
      "execution_count": 8,
      "metadata": {
        "colab": {
          "base_uri": "https://localhost:8080/"
        },
        "id": "63M8mSKR-6Zt",
        "outputId": "fcd5f763-69e8-4f08-b003-6116e4b71237"
      },
      "outputs": [
        {
          "output_type": "stream",
          "name": "stderr",
          "text": [
            "/usr/local/lib/python3.10/dist-packages/ipykernel/ipkernel.py:283: DeprecationWarning: `should_run_async` will not call `transform_cell` automatically in the future. Please pass the result to `transformed_cell` argument and any exception that happen during thetransform in `preprocessing_exc_tuple` in IPython 7.17 and above.\n",
            "  and should_run_async(code)\n"
          ]
        }
      ],
      "source": [
        "def evaluate(model, num_episodes=100, deterministic=True):\n",
        "    \"\"\"\n",
        "    Evaluate a RL agent\n",
        "    :param model: (BaseRLModel object) the RL Agent\n",
        "    :param num_episodes: (int) number of episodes to evaluate it\n",
        "    :return: (float) Mean reward for the last num_episodes\n",
        "    \"\"\"\n",
        "    # This function will only work for a single Environment\n",
        "    vec_env = model.get_env()\n",
        "    all_episode_rewards = []\n",
        "    for i in range(num_episodes):\n",
        "        episode_rewards = []\n",
        "        done = False\n",
        "        obs = vec_env.reset()\n",
        "        while not done:\n",
        "            # _states are only useful when using LSTM policies\n",
        "            action, _states = model.predict(obs, deterministic=deterministic)\n",
        "            # here, action, rewards and dones are arrays\n",
        "            # because we are using vectorized env\n",
        "            # also note that the step only returns a 4-tuple, as the env that is returned\n",
        "            # by model.get_env() is an sb3 vecenv that wraps the >v0.26 API\n",
        "            obs, reward, done, info = vec_env.step(action)\n",
        "            episode_rewards.append(reward)\n",
        "\n",
        "        all_episode_rewards.append(sum(episode_rewards))\n",
        "\n",
        "    mean_episode_reward = np.mean(all_episode_rewards)\n",
        "    print(\"Mean reward:\", mean_episode_reward, \"Num episodes:\", num_episodes)\n",
        "\n",
        "    return mean_episode_reward"
      ]
    },
    {
      "cell_type": "markdown",
      "metadata": {
        "id": "6hkyafs--gJz"
      },
      "source": [
        "In fact, Stable-Baselines3 already provides you with that helper:"
      ]
    },
    {
      "cell_type": "code",
      "execution_count": 9,
      "metadata": {
        "id": "s6ZNldIR-fce"
      },
      "outputs": [],
      "source": [
        "from stable_baselines3.common.evaluation import evaluate_policy"
      ]
    },
    {
      "cell_type": "markdown",
      "metadata": {
        "id": "zjEVOIY8NVeK"
      },
      "source": [
        "Let's evaluate the un-trained agent, this should be a random agent."
      ]
    },
    {
      "cell_type": "code",
      "execution_count": 10,
      "metadata": {
        "colab": {
          "base_uri": "https://localhost:8080/"
        },
        "id": "xDHLMA6NFk95",
        "outputId": "47a22356-58ac-4d9c-e88c-c3271c373abf"
      },
      "outputs": [
        {
          "output_type": "stream",
          "name": "stderr",
          "text": [
            "/usr/local/lib/python3.10/dist-packages/stable_baselines3/common/evaluation.py:67: UserWarning: Evaluation environment is not wrapped with a ``Monitor`` wrapper. This may result in reporting modified episode lengths and rewards, if other wrappers happen to modify these. Consider wrapping environment first with ``Monitor`` wrapper.\n",
            "  warnings.warn(\n"
          ]
        },
        {
          "output_type": "stream",
          "name": "stdout",
          "text": [
            "mean_reward:104.33 +/- 71.59\n"
          ]
        }
      ],
      "source": [
        "# Use a separate environement for evaluation\n",
        "eval_env = gym.make(\"CartPole-v1\", render_mode=\"rgb_array\")\n",
        "\n",
        "# Random Agent, before training\n",
        "mean_reward, std_reward = evaluate_policy(model, eval_env, n_eval_episodes=100)\n",
        "\n",
        "print(f\"mean_reward:{mean_reward:.2f} +/- {std_reward:.2f}\")"
      ]
    },
    {
      "cell_type": "markdown",
      "metadata": {
        "id": "r5UoXTZPNdFE"
      },
      "source": [
        "## Train the agent and evaluate it"
      ]
    },
    {
      "cell_type": "code",
      "execution_count": 11,
      "metadata": {
        "colab": {
          "base_uri": "https://localhost:8080/"
        },
        "id": "e4cfSXIB-pTF",
        "outputId": "a709dc86-dc54-47f7-cf0e-ca51add5c61d"
      },
      "outputs": [
        {
          "output_type": "execute_result",
          "data": {
            "text/plain": [
              "<stable_baselines3.ppo.ppo.PPO at 0x7f839a4e9870>"
            ]
          },
          "metadata": {},
          "execution_count": 11
        }
      ],
      "source": [
        "# Train the agent for 10000 steps\n",
        "model.learn(total_timesteps=10_000)"
      ]
    },
    {
      "cell_type": "code",
      "execution_count": 12,
      "metadata": {
        "colab": {
          "base_uri": "https://localhost:8080/"
        },
        "id": "ygl_gVmV_QP7",
        "outputId": "fd9efc78-db5a-4329-a2b2-0f77c25b058a"
      },
      "outputs": [
        {
          "output_type": "stream",
          "name": "stdout",
          "text": [
            "mean_reward:388.25 +/- 117.55\n"
          ]
        }
      ],
      "source": [
        "# Evaluate the trained agent\n",
        "mean_reward, std_reward = evaluate_policy(model, eval_env, n_eval_episodes=100)\n",
        "\n",
        "print(f\"mean_reward:{mean_reward:.2f} +/- {std_reward:.2f}\")"
      ]
    },
    {
      "cell_type": "markdown",
      "metadata": {
        "id": "A00W6yY3NkHG"
      },
      "source": [
        "Apparently the training went well, the mean reward increased a lot !"
      ]
    },
    {
      "cell_type": "markdown",
      "metadata": {
        "id": "xVm9QPNVwKXN"
      },
      "source": [
        "### Prepare video recording"
      ]
    },
    {
      "cell_type": "code",
      "execution_count": 13,
      "metadata": {
        "id": "MPyfQxD5z26J"
      },
      "outputs": [],
      "source": [
        "# Set up fake display; otherwise rendering will fail\n",
        "import os\n",
        "os.system(\"Xvfb :1 -screen 0 1024x768x24 &\")\n",
        "os.environ['DISPLAY'] = ':1'"
      ]
    },
    {
      "cell_type": "code",
      "execution_count": 14,
      "metadata": {
        "id": "SLzXxO8VMD6N"
      },
      "outputs": [],
      "source": [
        "import base64\n",
        "from pathlib import Path\n",
        "\n",
        "from IPython import display as ipythondisplay\n",
        "\n",
        "\n",
        "def show_videos(video_path=\"\", prefix=\"\"):\n",
        "    \"\"\"\n",
        "    Taken from https://github.com/eleurent/highway-env\n",
        "\n",
        "    :param video_path: (str) Path to the folder containing videos\n",
        "    :param prefix: (str) Filter the video, showing only the only starting with this prefix\n",
        "    \"\"\"\n",
        "    html = []\n",
        "    for mp4 in Path(video_path).glob(\"{}*.mp4\".format(prefix)):\n",
        "        video_b64 = base64.b64encode(mp4.read_bytes())\n",
        "        html.append(\n",
        "            \"\"\"<video alt=\"{}\" autoplay\n",
        "                    loop controls style=\"height: 400px;\">\n",
        "                    <source src=\"data:video/mp4;base64,{}\" type=\"video/mp4\" />\n",
        "                </video>\"\"\".format(\n",
        "                mp4, video_b64.decode(\"ascii\")\n",
        "            )\n",
        "        )\n",
        "    ipythondisplay.display(ipythondisplay.HTML(data=\"<br>\".join(html)))"
      ]
    },
    {
      "cell_type": "markdown",
      "metadata": {
        "id": "LTRNUfulOGaF"
      },
      "source": [
        "We will record a video using the [VecVideoRecorder](https://stable-baselines.readthedocs.io/en/master/guide/vec_envs.html#vecvideorecorder) wrapper, you will learn about those wrapper in the next notebook."
      ]
    },
    {
      "cell_type": "code",
      "execution_count": 15,
      "metadata": {
        "id": "Trag9dQpOIhx"
      },
      "outputs": [],
      "source": [
        "from stable_baselines3.common.vec_env import VecVideoRecorder, DummyVecEnv\n",
        "\n",
        "\n",
        "def record_video(env_id, model, video_length=500, prefix=\"\", video_folder=\"videos/\"):\n",
        "    \"\"\"\n",
        "    :param env_id: (str)\n",
        "    :param model: (RL model)\n",
        "    :param video_length: (int)\n",
        "    :param prefix: (str)\n",
        "    :param video_folder: (str)\n",
        "    \"\"\"\n",
        "    eval_env = DummyVecEnv([lambda: gym.make(\"CartPole-v1\", render_mode=\"rgb_array\")])\n",
        "    # Start the video at step=0 and record 500 steps\n",
        "    eval_env = VecVideoRecorder(\n",
        "        eval_env,\n",
        "        video_folder=video_folder,\n",
        "        record_video_trigger=lambda step: step == 0,\n",
        "        video_length=video_length,\n",
        "        name_prefix=prefix,\n",
        "    )\n",
        "\n",
        "    obs = eval_env.reset()\n",
        "    for _ in range(video_length):\n",
        "        action, _ = model.predict(obs)\n",
        "        obs, _, _, _ = eval_env.step(action)\n",
        "\n",
        "    # Close the video recorder\n",
        "    eval_env.close()"
      ]
    },
    {
      "cell_type": "markdown",
      "metadata": {
        "id": "KOObbeu5MMlR"
      },
      "source": [
        "### Visualize trained agent\n",
        "\n"
      ]
    },
    {
      "cell_type": "code",
      "execution_count": 16,
      "metadata": {
        "colab": {
          "base_uri": "https://localhost:8080/"
        },
        "id": "iATu7AiyMQW2",
        "outputId": "9cbc72bd-e0be-4fe2-ab78-a7ebef1aaab0"
      },
      "outputs": [
        {
          "output_type": "stream",
          "name": "stderr",
          "text": [
            "/usr/local/lib/python3.10/dist-packages/pygame/pkgdata.py:25: DeprecationWarning: pkg_resources is deprecated as an API. See https://setuptools.pypa.io/en/latest/pkg_resources.html\n",
            "  from pkg_resources import resource_stream, resource_exists\n",
            "/usr/local/lib/python3.10/dist-packages/pkg_resources/__init__.py:3154: DeprecationWarning: Deprecated call to `pkg_resources.declare_namespace('google')`.\n",
            "Implementing implicit namespace packages (as specified in PEP 420) is preferred to `pkg_resources.declare_namespace`. See https://setuptools.pypa.io/en/latest/references/keywords.html#keyword-namespace-packages\n",
            "  declare_namespace(pkg)\n",
            "/usr/local/lib/python3.10/dist-packages/pkg_resources/__init__.py:3154: DeprecationWarning: Deprecated call to `pkg_resources.declare_namespace('google.cloud')`.\n",
            "Implementing implicit namespace packages (as specified in PEP 420) is preferred to `pkg_resources.declare_namespace`. See https://setuptools.pypa.io/en/latest/references/keywords.html#keyword-namespace-packages\n",
            "  declare_namespace(pkg)\n",
            "/usr/local/lib/python3.10/dist-packages/pkg_resources/__init__.py:3154: DeprecationWarning: Deprecated call to `pkg_resources.declare_namespace('sphinxcontrib')`.\n",
            "Implementing implicit namespace packages (as specified in PEP 420) is preferred to `pkg_resources.declare_namespace`. See https://setuptools.pypa.io/en/latest/references/keywords.html#keyword-namespace-packages\n",
            "  declare_namespace(pkg)\n"
          ]
        },
        {
          "output_type": "stream",
          "name": "stdout",
          "text": [
            "Saving video to /content/videos/ppo-cartpole-step-0-to-step-500.mp4\n"
          ]
        },
        {
          "output_type": "stream",
          "name": "stderr",
          "text": [
            "/usr/local/lib/python3.10/dist-packages/moviepy/config_defaults.py:1: DeprecationWarning: invalid escape sequence '\\P'\n",
            "  \"\"\"\n"
          ]
        },
        {
          "output_type": "stream",
          "name": "stdout",
          "text": [
            "Moviepy - Building video /content/videos/ppo-cartpole-step-0-to-step-500.mp4.\n",
            "Moviepy - Writing video /content/videos/ppo-cartpole-step-0-to-step-500.mp4\n",
            "\n"
          ]
        },
        {
          "output_type": "stream",
          "name": "stderr",
          "text": [
            "                                                               "
          ]
        },
        {
          "output_type": "stream",
          "name": "stdout",
          "text": [
            "Moviepy - Done !\n",
            "Moviepy - video ready /content/videos/ppo-cartpole-step-0-to-step-500.mp4\n"
          ]
        },
        {
          "output_type": "stream",
          "name": "stderr",
          "text": [
            "\r"
          ]
        }
      ],
      "source": [
        "record_video(\"CartPole-v1\", model, video_length=500, prefix=\"ppo-cartpole\")"
      ]
    },
    {
      "cell_type": "code",
      "execution_count": 17,
      "metadata": {
        "colab": {
          "base_uri": "https://localhost:8080/",
          "height": 476
        },
        "id": "-n4i-fW3NojZ",
        "outputId": "1b4f8987-d8a4-4b5d-9c63-677b60d07164"
      },
      "outputs": [
        {
          "output_type": "stream",
          "name": "stderr",
          "text": [
            "/usr/local/lib/python3.10/dist-packages/ipykernel/ipkernel.py:283: DeprecationWarning: `should_run_async` will not call `transform_cell` automatically in the future. Please pass the result to `transformed_cell` argument and any exception that happen during thetransform in `preprocessing_exc_tuple` in IPython 7.17 and above.\n",
            "  and should_run_async(code)\n"
          ]
        },
        {
          "output_type": "display_data",
          "data": {
            "text/plain": [
              "<IPython.core.display.HTML object>"
            ],
            "text/html": [
              "<video alt=\"videos/ppo-cartpole-step-0-to-step-500.mp4\" autoplay \n",
              "                    loop controls style=\"height: 400px;\">\n",
              "                    <source src=\"data:video/mp4;base64,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\" type=\"video/mp4\" />\n",
              "                </video>"
            ]
          },
          "metadata": {}
        }
      ],
      "source": [
        "show_videos(\"videos\", prefix=\"ppo\")"
      ]
    },
    {
      "cell_type": "markdown",
      "metadata": {
        "id": "9Y8zg4V566qD"
      },
      "source": [
        "## Bonus: Train a RL Model in One Line\n",
        "\n",
        "The policy class to use will be inferred and the environment will be automatically created. This works because both are [registered](https://stable-baselines.readthedocs.io/en/master/guide/quickstart.html)."
      ]
    },
    {
      "cell_type": "code",
      "execution_count": 18,
      "metadata": {
        "colab": {
          "base_uri": "https://localhost:8080/"
        },
        "id": "iaOPfOrwWEP4",
        "outputId": "a78512a5-ec0e-402d-e430-33ac69551f1a"
      },
      "outputs": [
        {
          "output_type": "stream",
          "name": "stderr",
          "text": [
            "/usr/local/lib/python3.10/dist-packages/stable_baselines3/common/on_policy_algorithm.py:150: UserWarning: You are trying to run PPO on the GPU, but it is primarily intended to run on the CPU when not using a CNN policy (you are using ActorCriticPolicy which should be a MlpPolicy). See https://github.com/DLR-RM/stable-baselines3/issues/1245 for more info. You can pass `device='cpu'` or `export CUDA_VISIBLE_DEVICES=` to force using the CPU.Note: The model will train, but the GPU utilization will be poor and the training might take longer than on CPU.\n",
            "  warnings.warn(\n"
          ]
        },
        {
          "output_type": "stream",
          "name": "stdout",
          "text": [
            "Using cuda device\n",
            "Creating environment from the given name 'CartPole-v1'\n",
            "Wrapping the env with a `Monitor` wrapper\n",
            "Wrapping the env in a DummyVecEnv.\n",
            "---------------------------------\n",
            "| rollout/           |          |\n",
            "|    ep_len_mean     | 22.6     |\n",
            "|    ep_rew_mean     | 22.6     |\n",
            "| time/              |          |\n",
            "|    fps             | 734      |\n",
            "|    iterations      | 1        |\n",
            "|    time_elapsed    | 2        |\n",
            "|    total_timesteps | 2048     |\n",
            "---------------------------------\n"
          ]
        }
      ],
      "source": [
        "model = PPO('MlpPolicy', \"CartPole-v1\", verbose=1).learn(1000)"
      ]
    },
    {
      "cell_type": "markdown",
      "metadata": {
        "id": "FrI6f5fWnzp-"
      },
      "source": [
        "## Conclusion\n",
        "\n",
        "In this notebook we have seen:\n",
        "- how to define and train a RL model using stable baselines3, it takes only one line of code ;)\n"
      ]
    }
  ],
  "metadata": {
    "accelerator": "GPU",
    "colab": {
      "name": "1_getting_started.ipynb",
      "provenance": [],
      "include_colab_link": true
    },
    "kernelspec": {
      "display_name": "Python 3 (ipykernel)",
      "language": "python",
      "name": "python3"
    },
    "language_info": {
      "codemirror_mode": {
        "name": "ipython",
        "version": 3
      },
      "file_extension": ".py",
      "mimetype": "text/x-python",
      "name": "python",
      "nbconvert_exporter": "python",
      "pygments_lexer": "ipython3",
      "version": "3.11.0"
    },
    "vscode": {
      "interpreter": {
        "hash": "3201c96db5836b171d01fee72ea1be894646622d4b41771abf25c98b548a611d"
      }
    }
  },
  "nbformat": 4,
  "nbformat_minor": 0
}