{
 "cells": [
  {
   "cell_type": "code",
   "execution_count": 1,
   "metadata": {},
   "outputs": [
    {
     "name": "stdout",
     "output_type": "stream",
     "text": [
      "Requirement already satisfied: torch in c:\\users\\tku-staff\\anaconda3\\envs\\pytorch\\lib\\site-packages (2.4.1+cu118)\n",
      "Requirement already satisfied: transformers in c:\\users\\tku-staff\\anaconda3\\envs\\pytorch\\lib\\site-packages (4.47.0)\n",
      "Requirement already satisfied: diffusers in c:\\users\\tku-staff\\anaconda3\\envs\\pytorch\\lib\\site-packages (0.31.0)\n",
      "Requirement already satisfied: filelock in c:\\users\\tku-staff\\anaconda3\\envs\\pytorch\\lib\\site-packages (from torch) (3.13.1)\n",
      "Requirement already satisfied: typing-extensions>=4.8.0 in c:\\users\\tku-staff\\anaconda3\\envs\\pytorch\\lib\\site-packages (from torch) (4.12.2)\n",
      "Requirement already satisfied: sympy in c:\\users\\tku-staff\\anaconda3\\envs\\pytorch\\lib\\site-packages (from torch) (1.12)\n",
      "Requirement already satisfied: networkx in c:\\users\\tku-staff\\anaconda3\\envs\\pytorch\\lib\\site-packages (from torch) (3.2.1)\n",
      "Requirement already satisfied: jinja2 in c:\\users\\tku-staff\\anaconda3\\envs\\pytorch\\lib\\site-packages (from torch) (3.1.3)\n",
      "Requirement already satisfied: fsspec in c:\\users\\tku-staff\\anaconda3\\envs\\pytorch\\lib\\site-packages (from torch) (2024.2.0)\n",
      "Requirement already satisfied: huggingface-hub<1.0,>=0.24.0 in c:\\users\\tku-staff\\anaconda3\\envs\\pytorch\\lib\\site-packages (from transformers) (0.27.0)\n",
      "Requirement already satisfied: numpy>=1.17 in c:\\users\\tku-staff\\anaconda3\\envs\\pytorch\\lib\\site-packages (from transformers) (1.26.3)\n",
      "Requirement already satisfied: packaging>=20.0 in c:\\users\\tku-staff\\anaconda3\\envs\\pytorch\\lib\\site-packages (from transformers) (24.1)\n",
      "Requirement already satisfied: pyyaml>=5.1 in c:\\users\\tku-staff\\anaconda3\\envs\\pytorch\\lib\\site-packages (from transformers) (6.0.2)\n",
      "Requirement already satisfied: regex!=2019.12.17 in c:\\users\\tku-staff\\anaconda3\\envs\\pytorch\\lib\\site-packages (from transformers) (2024.11.6)\n",
      "Requirement already satisfied: requests in c:\\users\\tku-staff\\anaconda3\\envs\\pytorch\\lib\\site-packages (from transformers) (2.32.3)\n",
      "Requirement already satisfied: tokenizers<0.22,>=0.21 in c:\\users\\tku-staff\\anaconda3\\envs\\pytorch\\lib\\site-packages (from transformers) (0.21.0)\n",
      "Requirement already satisfied: safetensors>=0.4.1 in c:\\users\\tku-staff\\anaconda3\\envs\\pytorch\\lib\\site-packages (from transformers) (0.4.5)\n",
      "Requirement already satisfied: tqdm>=4.27 in c:\\users\\tku-staff\\anaconda3\\envs\\pytorch\\lib\\site-packages (from transformers) (4.67.1)\n",
      "Requirement already satisfied: importlib-metadata in c:\\users\\tku-staff\\anaconda3\\envs\\pytorch\\lib\\site-packages (from diffusers) (8.5.0)\n",
      "Requirement already satisfied: Pillow in c:\\users\\tku-staff\\anaconda3\\envs\\pytorch\\lib\\site-packages (from diffusers) (10.2.0)\n",
      "Requirement already satisfied: colorama in c:\\users\\tku-staff\\anaconda3\\envs\\pytorch\\lib\\site-packages (from tqdm>=4.27->transformers) (0.4.6)\n",
      "Requirement already satisfied: zipp>=3.20 in c:\\users\\tku-staff\\anaconda3\\envs\\pytorch\\lib\\site-packages (from importlib-metadata->diffusers) (3.20.2)\n",
      "Requirement already satisfied: MarkupSafe>=2.0 in c:\\users\\tku-staff\\anaconda3\\envs\\pytorch\\lib\\site-packages (from jinja2->torch) (2.1.5)\n",
      "Requirement already satisfied: charset-normalizer<4,>=2 in c:\\users\\tku-staff\\anaconda3\\envs\\pytorch\\lib\\site-packages (from requests->transformers) (3.4.0)\n",
      "Requirement already satisfied: idna<4,>=2.5 in c:\\users\\tku-staff\\anaconda3\\envs\\pytorch\\lib\\site-packages (from requests->transformers) (3.10)\n",
      "Requirement already satisfied: urllib3<3,>=1.21.1 in c:\\users\\tku-staff\\anaconda3\\envs\\pytorch\\lib\\site-packages (from requests->transformers) (2.2.3)\n",
      "Requirement already satisfied: certifi>=2017.4.17 in c:\\users\\tku-staff\\anaconda3\\envs\\pytorch\\lib\\site-packages (from requests->transformers) (2024.12.14)\n",
      "Requirement already satisfied: mpmath>=0.19 in c:\\users\\tku-staff\\anaconda3\\envs\\pytorch\\lib\\site-packages (from sympy->torch) (1.3.0)\n"
     ]
    }
   ],
   "source": [
    "! pip install torch transformers diffusers"
   ]
  },
  {
   "cell_type": "code",
   "execution_count": 2,
   "metadata": {},
   "outputs": [
    {
     "name": "stderr",
     "output_type": "stream",
     "text": [
      "c:\\Users\\TKU-STAFF\\anaconda3\\envs\\pytorch\\lib\\site-packages\\tqdm\\auto.py:21: TqdmWarning: IProgress not found. Please update jupyter and ipywidgets. See https://ipywidgets.readthedocs.io/en/stable/user_install.html\n",
      "  from .autonotebook import tqdm as notebook_tqdm\n",
      "Cannot initialize model with low cpu memory usage because `accelerate` was not found in the environment. Defaulting to `low_cpu_mem_usage=False`. It is strongly recommended to install `accelerate` for faster and less memory-intense model loading. You can do so with: \n",
      "```\n",
      "pip install accelerate\n",
      "```\n",
      ".\n",
      "Loading pipeline components...: 100%|██████████| 5/5 [00:04<00:00,  1.14it/s]\n",
      "c:\\Users\\TKU-STAFF\\anaconda3\\envs\\pytorch\\lib\\site-packages\\transformers\\models\\clip\\modeling_clip.py:540: UserWarning: 1Torch was not compiled with flash attention. (Triggered internally at C:\\actions-runner\\_work\\pytorch\\pytorch\\builder\\windows\\pytorch\\aten\\src\\ATen\\native\\transformers\\cuda\\sdp_utils.cpp:555.)\n",
      "  attn_output = torch.nn.functional.scaled_dot_product_attention(\n",
      "100%|██████████| 12/12 [00:00<00:00, 16.93it/s]\n"
     ]
    }
   ],
   "source": [
    "import torch\n",
    "from diffusers import AmusedPipeline\n",
    "from PIL import Image\n",
    "import matplotlib.pyplot as plt\n",
    "\n",
    "pipe = AmusedPipeline.from_pretrained(\n",
    "    \"amused/amused-256\", variant=\"fp16\", torch_dtype=torch.float16\n",
    ")\n",
    "pipe = pipe.to(\"cuda\")\n",
    "\n",
    "prompt = \"cowboy\"\n",
    "image = pipe(prompt, generator=torch.Generator('cuda').manual_seed(8)).images[0]\n",
    "image.save('text2image_256.png')\n"
   ]
  }
 ],
 "metadata": {
  "kernelspec": {
   "display_name": "pytorch",
   "language": "python",
   "name": "python3"
  },
  "language_info": {
   "codemirror_mode": {
    "name": "ipython",
    "version": 3
   },
   "file_extension": ".py",
   "mimetype": "text/x-python",
   "name": "python",
   "nbconvert_exporter": "python",
   "pygments_lexer": "ipython3",
   "version": "3.9.19"
  }
 },
 "nbformat": 4,
 "nbformat_minor": 2
}
